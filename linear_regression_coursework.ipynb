{
  "nbformat": 4,
  "nbformat_minor": 0,
  "metadata": {
    "colab": {
      "name": "linear_regression_coursework.ipynb",
      "provenance": [],
      "collapsed_sections": []
    },
    "kernelspec": {
      "name": "python3",
      "display_name": "Python 3"
    },
    "language_info": {
      "name": "python"
    }
  },
  "cells": [
    {
      "cell_type": "code",
      "execution_count": null,
      "metadata": {
        "id": "FUUGO9_f7pIv"
      },
      "outputs": [],
      "source": [
        "# importing necessary liabraries\n",
        "import pandas as pd\n",
        "import numpy as np \n",
        "import matplotlib.pyplot as plt"
      ]
    },
    {
      "cell_type": "markdown",
      "source": [
        "**Question 1**"
      ],
      "metadata": {
        "id": "cbRrSc-TOIXO"
      }
    },
    {
      "cell_type": "code",
      "source": [
        "def Dataset(s,n,m):\n",
        "  #sigma = the spread of the noise in output variable\n",
        "  #n = the size of the dataset\n",
        "  # m = number of independent variables \n",
        "\n",
        "  for i in range(m):\n",
        "    xi = 10 * np.random.rand(n,m)\n",
        "    df = pd.DataFrame(xi)\n",
        "    df.columns=[\"x\" + str(i+1) for i in range(m)] # it will store the independent variable by the coulmn name x1,x2...xn\n",
        "  \n",
        "  X = df.iloc[:] # storing all independent varibale in X\n",
        "  ones = np.ones(X.shape[0],dtype= int)  # generating a column of ones\n",
        "  X = np.c_[ones,X] # storing all indpendent variables in X with column of ones\n",
        "\n",
        "  mu = 0\n",
        "  sigma = s \n",
        "  y =  4  + df[\"x1\"]+ np.random.normal(mu,s,n) \n",
        "  df['y'] = y # generating the dependent variable with sigma and mean\n",
        "  Y = df.iloc[:,-1]  # sstoring indepent variable in Y\n",
        "  \n",
        "  #theta = (X transpose * X)^-1 * Xtranspose * Y\n",
        "  theta = np.dot(np.dot(np.linalg.inv(np.dot(X.T,X)),X.T),Y)\n",
        "  theta = f\"The coefficient are : {theta}\"\n",
        "  \n",
        "  return X,Y,theta\n",
        "\n",
        "print(Dataset(1,3,2))\n"
      ],
      "metadata": {
        "colab": {
          "base_uri": "https://localhost:8080/"
        },
        "id": "we4ulkja8Imw",
        "outputId": "5b9c5885-7ef1-406b-a67e-fc15baf2e202"
      },
      "execution_count": null,
      "outputs": [
        {
          "output_type": "stream",
          "name": "stdout",
          "text": [
            "(array([[1.        , 0.02004932, 4.1855974 ],\n",
            "       [1.        , 5.52011181, 6.55333753],\n",
            "       [1.        , 9.76896591, 7.86161433]]), 0     4.491312\n",
            "1    10.604670\n",
            "2    12.600250\n",
            "Name: y, dtype: float64, 'The coefficient are : [-17.40160501  -1.14255956   5.23600864]')\n"
          ]
        }
      ]
    },
    {
      "cell_type": "markdown",
      "source": [
        "**Question 2**"
      ],
      "metadata": {
        "id": "onFJ4gNeOXQv"
      }
    },
    {
      "cell_type": "code",
      "source": [
        "def Gradient(n,m,l,t,e):\n",
        "  # m is number of independent variables \n",
        "  # n is size of the dataset\n",
        "  # k is number of interactions(epochs)\n",
        "  # t is the threshold on change in Cost function value from the previous to current\n",
        "  # l is  the learning rate (alpha)\n",
        "  # e is epochs the number of iterations to perform gradient descent\n",
        "\n",
        "  for i in range(m):\n",
        "    xi = 10 * np.random.rand(n,m)\n",
        "    df = pd.DataFrame(xi)\n",
        "    df.columns=[\"x\" + str(i+1) for i in range(m)] # it will store the independent variable by the coulmn name x1,x2...xn\n",
        "\n",
        "  mu = 0\n",
        "  s = 1\n",
        "  y = 4  + df[\"x1\"]+ np.random.normal(mu,s,n) \n",
        "  df['y'] = y # generating the dependent variable with sigma and mean\n",
        "\n",
        "  X = df.iloc[:,m] # storing all independent varibale in X\n",
        "  \n",
        "  Y = df.iloc[:,-1]  # storing indepent variable in Y\n",
        "\n",
        "  # splitting the dataset in 80:20 ratio\n",
        "  X_train=X.sample(frac=0.8,random_state=200) #random state is a seed value\n",
        "  X_test=X.drop(X_train.index)\n",
        "  Y_train=Y.sample(frac=0.8,random_state=200) #random state is a seed value\n",
        "  Y_test=Y.drop(Y_train.index)\n",
        "\n",
        "  # taking out the cost functions and coeffeicients\n",
        "  b1 = 1\n",
        "  b0 = 1\n",
        "  n = float(len(X_train))\n",
        "\n",
        "  Y_pred = b1*X_train + b0\n",
        "  initial_cost = np.mean((Y_train - Y_pred)**2) \n",
        "\n",
        "  for i in range(e):\n",
        "    derivative_wrt_b1 = (1/n)* sum((Y_pred - Y_train)* X_train)\n",
        "    derivative_wrt_b0 = (1/n)* sum(Y_pred - Y_train)\n",
        "    b1 = b1 - l * derivative_wrt_b1 \n",
        "    b0 = b0 - l * derivative_wrt_b0\n",
        "\n",
        "    Y_pred = b1*X_train + b0\n",
        "    new_cost = np.mean(Y_train - Y_pred)**2\n",
        "    if initial_cost-new_cost > t:\n",
        "      initial_cost = new_cost\n",
        "    else:\n",
        "      break                                    \n",
        "  return b1,b0, new_cost\n",
        "\n",
        "\n",
        "#calling the function\n",
        "print(Gradient(10,20,0.00001,0.000000001,10,5))"
      ],
      "metadata": {
        "colab": {
          "base_uri": "https://localhost:8080/"
        },
        "id": "He74x-8OpNr2",
        "outputId": "e0cd28e1-5dad-4514-9bb7-960373fdbd37"
      },
      "execution_count": null,
      "outputs": [
        {
          "output_type": "stream",
          "name": "stdout",
          "text": [
            "(0.9989640048114548, 0.9999004914997977, 0.9783267425090595)\n"
          ]
        }
      ]
    },
    {
      "cell_type": "markdown",
      "source": [
        "**Question 3**"
      ],
      "metadata": {
        "id": "SAmYRdxPPH3P"
      }
    },
    {
      "cell_type": "code",
      "source": [
        "# i just want only theta value in return so i copied this fuction again and made changes in return value\n",
        "import random\n",
        "def Dataset(s,n,m):\n",
        "  #sigma = the spread of the noise in output variable\n",
        "  #n = the size of the dataset\n",
        "  # m = number of independent variables \n",
        "  np.random.seed(100)\n",
        "\n",
        "  for i in range(m):\n",
        "    xi = 10 * np.random.rand(n,m)\n",
        "    df = pd.DataFrame(xi)\n",
        "    df.columns=[\"x\" + str(i+1) for i in range(m)] # it will store the independent variable by the coulmn name x1,x2...xn\n",
        "  \n",
        "  X = df.iloc[:] # storing all independent varibale in X\n",
        "  ones = np.ones(X.shape[0],dtype= int)  # generating a column of ones\n",
        "  X = np.c_[ones,X] # storing all indpendent variables in X with column of ones\n",
        "\n",
        "  mu = 0\n",
        "  sigma = s \n",
        "  y =  4  + df[\"x1\"]+ np.random.normal(mu,s,n) \n",
        "  df['y'] = y # generating the dependent variable with sigma and mean\n",
        "  Y = df.iloc[:,-1]  # sstoring indepent variable in Y\n",
        "  \n",
        "  #theta = (X transpose * X)^-1 * Xtranspose * Y\n",
        "  theta = np.dot(np.dot(np.linalg.inv(np.dot(X.T,X)),X.T),Y)\n",
        "  theta = f\"The coefficient are : {theta}\"\n",
        "  \n",
        "  return theta\n",
        "\n",
        "print(Dataset(3,10000,1))"
      ],
      "metadata": {
        "colab": {
          "base_uri": "https://localhost:8080/"
        },
        "id": "MWTjhJg6PcaO",
        "outputId": "6480d9e9-44fb-4447-c605-595264138cdb"
      },
      "execution_count": null,
      "outputs": [
        {
          "output_type": "stream",
          "name": "stdout",
          "text": [
            "The coefficient are : [4.09065104 0.98766943]\n"
          ]
        }
      ]
    },
    {
      "cell_type": "code",
      "source": [
        "data = [{'n':100,'sigma':1,'beta0':3.98485975,'beta1':0.97246521},\n",
        "        {'n':100,'sigma':2,'beta0':3.96971951,'beta1':0.94493042},\n",
        "        {'n':100,'sigma':3,'beta0':3.95457926,'beta1':0.91739563},\n",
        "        {'n':1000,'sigma':1,'beta0':4.14916349,'beta1':0.9745939},\n",
        "        {'n':1000,'sigma':2,'beta0':4.29832698,'beta1':0.9491878},\n",
        "        {'n':1000,'sigma':3,'beta0':4.44749047,'beta1':0.92378169},\n",
        "        {'n':10000,'sigma':1,'beta0':4.03021701,'beta1':0.99588981},\n",
        "        {'n':10000,'sigma':2,'beta0':4.06043402,'beta1':0.99177962},\n",
        "        {'n':10000,'sigma':3,'beta0':4.09065104,'beta1':0.98766943}\n",
        "        ]\n",
        "df = pd.DataFrame(data)\n",
        "df"
      ],
      "metadata": {
        "colab": {
          "base_uri": "https://localhost:8080/",
          "height": 331
        },
        "id": "HcHYKNGERbJf",
        "outputId": "3590a069-40ee-4575-b5b3-f036c39587bf"
      },
      "execution_count": null,
      "outputs": [
        {
          "output_type": "execute_result",
          "data": {
            "text/html": [
              "\n",
              "  <div id=\"df-e0e527f9-3840-4124-88b8-4813cbc452c1\">\n",
              "    <div class=\"colab-df-container\">\n",
              "      <div>\n",
              "<style scoped>\n",
              "    .dataframe tbody tr th:only-of-type {\n",
              "        vertical-align: middle;\n",
              "    }\n",
              "\n",
              "    .dataframe tbody tr th {\n",
              "        vertical-align: top;\n",
              "    }\n",
              "\n",
              "    .dataframe thead th {\n",
              "        text-align: right;\n",
              "    }\n",
              "</style>\n",
              "<table border=\"1\" class=\"dataframe\">\n",
              "  <thead>\n",
              "    <tr style=\"text-align: right;\">\n",
              "      <th></th>\n",
              "      <th>n</th>\n",
              "      <th>sigma</th>\n",
              "      <th>beta0</th>\n",
              "      <th>beta1</th>\n",
              "    </tr>\n",
              "  </thead>\n",
              "  <tbody>\n",
              "    <tr>\n",
              "      <th>0</th>\n",
              "      <td>100</td>\n",
              "      <td>1</td>\n",
              "      <td>3.984860</td>\n",
              "      <td>0.972465</td>\n",
              "    </tr>\n",
              "    <tr>\n",
              "      <th>1</th>\n",
              "      <td>100</td>\n",
              "      <td>2</td>\n",
              "      <td>3.969720</td>\n",
              "      <td>0.944930</td>\n",
              "    </tr>\n",
              "    <tr>\n",
              "      <th>2</th>\n",
              "      <td>100</td>\n",
              "      <td>3</td>\n",
              "      <td>3.954579</td>\n",
              "      <td>0.917396</td>\n",
              "    </tr>\n",
              "    <tr>\n",
              "      <th>3</th>\n",
              "      <td>1000</td>\n",
              "      <td>1</td>\n",
              "      <td>4.149163</td>\n",
              "      <td>0.974594</td>\n",
              "    </tr>\n",
              "    <tr>\n",
              "      <th>4</th>\n",
              "      <td>1000</td>\n",
              "      <td>2</td>\n",
              "      <td>4.298327</td>\n",
              "      <td>0.949188</td>\n",
              "    </tr>\n",
              "    <tr>\n",
              "      <th>5</th>\n",
              "      <td>1000</td>\n",
              "      <td>3</td>\n",
              "      <td>4.447490</td>\n",
              "      <td>0.923782</td>\n",
              "    </tr>\n",
              "    <tr>\n",
              "      <th>6</th>\n",
              "      <td>10000</td>\n",
              "      <td>1</td>\n",
              "      <td>4.030217</td>\n",
              "      <td>0.995890</td>\n",
              "    </tr>\n",
              "    <tr>\n",
              "      <th>7</th>\n",
              "      <td>10000</td>\n",
              "      <td>2</td>\n",
              "      <td>4.060434</td>\n",
              "      <td>0.991780</td>\n",
              "    </tr>\n",
              "    <tr>\n",
              "      <th>8</th>\n",
              "      <td>10000</td>\n",
              "      <td>3</td>\n",
              "      <td>4.090651</td>\n",
              "      <td>0.987669</td>\n",
              "    </tr>\n",
              "  </tbody>\n",
              "</table>\n",
              "</div>\n",
              "      <button class=\"colab-df-convert\" onclick=\"convertToInteractive('df-e0e527f9-3840-4124-88b8-4813cbc452c1')\"\n",
              "              title=\"Convert this dataframe to an interactive table.\"\n",
              "              style=\"display:none;\">\n",
              "        \n",
              "  <svg xmlns=\"http://www.w3.org/2000/svg\" height=\"24px\"viewBox=\"0 0 24 24\"\n",
              "       width=\"24px\">\n",
              "    <path d=\"M0 0h24v24H0V0z\" fill=\"none\"/>\n",
              "    <path d=\"M18.56 5.44l.94 2.06.94-2.06 2.06-.94-2.06-.94-.94-2.06-.94 2.06-2.06.94zm-11 1L8.5 8.5l.94-2.06 2.06-.94-2.06-.94L8.5 2.5l-.94 2.06-2.06.94zm10 10l.94 2.06.94-2.06 2.06-.94-2.06-.94-.94-2.06-.94 2.06-2.06.94z\"/><path d=\"M17.41 7.96l-1.37-1.37c-.4-.4-.92-.59-1.43-.59-.52 0-1.04.2-1.43.59L10.3 9.45l-7.72 7.72c-.78.78-.78 2.05 0 2.83L4 21.41c.39.39.9.59 1.41.59.51 0 1.02-.2 1.41-.59l7.78-7.78 2.81-2.81c.8-.78.8-2.07 0-2.86zM5.41 20L4 18.59l7.72-7.72 1.47 1.35L5.41 20z\"/>\n",
              "  </svg>\n",
              "      </button>\n",
              "      \n",
              "  <style>\n",
              "    .colab-df-container {\n",
              "      display:flex;\n",
              "      flex-wrap:wrap;\n",
              "      gap: 12px;\n",
              "    }\n",
              "\n",
              "    .colab-df-convert {\n",
              "      background-color: #E8F0FE;\n",
              "      border: none;\n",
              "      border-radius: 50%;\n",
              "      cursor: pointer;\n",
              "      display: none;\n",
              "      fill: #1967D2;\n",
              "      height: 32px;\n",
              "      padding: 0 0 0 0;\n",
              "      width: 32px;\n",
              "    }\n",
              "\n",
              "    .colab-df-convert:hover {\n",
              "      background-color: #E2EBFA;\n",
              "      box-shadow: 0px 1px 2px rgba(60, 64, 67, 0.3), 0px 1px 3px 1px rgba(60, 64, 67, 0.15);\n",
              "      fill: #174EA6;\n",
              "    }\n",
              "\n",
              "    [theme=dark] .colab-df-convert {\n",
              "      background-color: #3B4455;\n",
              "      fill: #D2E3FC;\n",
              "    }\n",
              "\n",
              "    [theme=dark] .colab-df-convert:hover {\n",
              "      background-color: #434B5C;\n",
              "      box-shadow: 0px 1px 3px 1px rgba(0, 0, 0, 0.15);\n",
              "      filter: drop-shadow(0px 1px 2px rgba(0, 0, 0, 0.3));\n",
              "      fill: #FFFFFF;\n",
              "    }\n",
              "  </style>\n",
              "\n",
              "      <script>\n",
              "        const buttonEl =\n",
              "          document.querySelector('#df-e0e527f9-3840-4124-88b8-4813cbc452c1 button.colab-df-convert');\n",
              "        buttonEl.style.display =\n",
              "          google.colab.kernel.accessAllowed ? 'block' : 'none';\n",
              "\n",
              "        async function convertToInteractive(key) {\n",
              "          const element = document.querySelector('#df-e0e527f9-3840-4124-88b8-4813cbc452c1');\n",
              "          const dataTable =\n",
              "            await google.colab.kernel.invokeFunction('convertToInteractive',\n",
              "                                                     [key], {});\n",
              "          if (!dataTable) return;\n",
              "\n",
              "          const docLinkHtml = 'Like what you see? Visit the ' +\n",
              "            '<a target=\"_blank\" href=https://colab.research.google.com/notebooks/data_table.ipynb>data table notebook</a>'\n",
              "            + ' to learn more about interactive tables.';\n",
              "          element.innerHTML = '';\n",
              "          dataTable['output_type'] = 'display_data';\n",
              "          await google.colab.output.renderOutput(dataTable, element);\n",
              "          const docLink = document.createElement('div');\n",
              "          docLink.innerHTML = docLinkHtml;\n",
              "          element.appendChild(docLink);\n",
              "        }\n",
              "      </script>\n",
              "    </div>\n",
              "  </div>\n",
              "  "
            ],
            "text/plain": [
              "       n  sigma     beta0     beta1\n",
              "0    100      1  3.984860  0.972465\n",
              "1    100      2  3.969720  0.944930\n",
              "2    100      3  3.954579  0.917396\n",
              "3   1000      1  4.149163  0.974594\n",
              "4   1000      2  4.298327  0.949188\n",
              "5   1000      3  4.447490  0.923782\n",
              "6  10000      1  4.030217  0.995890\n",
              "7  10000      2  4.060434  0.991780\n",
              "8  10000      3  4.090651  0.987669"
            ]
          },
          "metadata": {},
          "execution_count": 109
        }
      ]
    }
  ]
}